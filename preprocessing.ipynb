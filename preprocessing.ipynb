{
 "cells": [
  {
   "attachments": {},
   "cell_type": "markdown",
   "metadata": {},
   "source": [
    "## Preprocessing данных для подготовки финального датасета"
   ]
  },
  {
   "cell_type": "code",
   "execution_count": 69,
   "metadata": {},
   "outputs": [],
   "source": [
    "import os \n",
    "import numpy as np\n",
    "import pandas as pd\n",
    "import matplotlib as mpl\n",
    "from matplotlib import pyplot as plt\n",
    "import seaborn as sns"
   ]
  },
  {
   "cell_type": "code",
   "execution_count": 70,
   "metadata": {},
   "outputs": [],
   "source": [
    "path = './_data.csv'\n",
    "df = pd.read_csv(path)"
   ]
  },
  {
   "cell_type": "code",
   "execution_count": 71,
   "metadata": {},
   "outputs": [],
   "source": [
    "# Исключение адресов вне Москвы.\n",
    "df = df[df[\"Адрес\"].str.contains(\"Москва\")]\n",
    "# Исключение колонок, которые были признаны подлежащими исключению по результатам EDA и с учётом дополнительного обсуждения внутри команды.\n",
    "to_drop = ['Unnamed: 0', 'Тип', 'Адрес', 'Телефоны', 'Описание', 'Площадь комнат, м2', 'Балкон', 'Окна', 'Санузел', \n",
    "           'Дополнительно', 'Название ЖК', 'Парковка', 'Серия дома', 'Высота потолков, м', 'Мусоропровод', 'Ссылка на объявление', 'Лифт']\n",
    "df.drop(columns=to_drop, inplace=True)"
   ]
  },
  {
   "cell_type": "code",
   "execution_count": 72,
   "metadata": {},
   "outputs": [],
   "source": [
    "# Работа с колонкой \"Количество комнат\": получение значения общего числа комнат в допустимом формате.\n",
    "df['rooms'] = df['Количество комнат'].apply(lambda x: int(x.split(',')[0]) if pd.notnull(x) else x)\n",
    "df.drop(columns=['Количество комнат'], inplace=True)\n",
    "# Ввиду небольшого числа пропусков, команда сочла допустимым использование метода Complete Case Analysis с удалением строк с отсутствующими значениями.\n",
    "df.dropna(subset=['rooms'], inplace=True)"
   ]
  },
  {
   "cell_type": "code",
   "execution_count": 73,
   "metadata": {},
   "outputs": [],
   "source": [
    "# Работа с колонкой \"Метро\": получение наименования станций. Ввиду ресурсных ограничений и непроработанности гипотез, информация о времени перемещения до станции метро была исключена. \n",
    "df['stations'] = df['Метро'].apply(lambda x: x.split(' ')[1] if pd.notnull(x) else x)\n",
    "df.drop(columns=['Метро'], inplace=True)\n",
    "# Ввиду небольшого числа пропусков и учитывая содержание соответствующих строк, команда сочла допустимым использование метода Complete Case Analysis с удалением строк с отсутствующими значениями.\n",
    "# Более качественным и устойчивым к искажениям решением было бы кодирование непосредственно адресов квартир (подлежит дополнительному анализу). \n",
    "df.dropna(subset=['stations'], inplace=True)\n",
    "# На последующем этапе предполагается выполнение OHE колонки 'stations'."
   ]
  },
  {
   "cell_type": "code",
   "execution_count": 74,
   "metadata": {},
   "outputs": [],
   "source": [
    "# Работа с колонкой \"Площадь, м2\": получение значения общего числа комнат в допустимом формате.\n",
    "df['area'] = df['Площадь, м2'].apply(lambda x: float(x.split('/')[0]))\n",
    "df.drop(columns=['Площадь, м2'], inplace=True)\n",
    "# Команда не пришла к однозначному выводу о необходимости устранения выбросов (квартиры большой метражности) ввиду рисков утраты ценной информации."
   ]
  },
  {
   "cell_type": "code",
   "execution_count": 75,
   "metadata": {},
   "outputs": [],
   "source": [
    "# Работа с колонкой \"Дом\": получение значений этажности домов, этажей расположения квартир в домах. Ввиду значительного числа пропусков, значения типов домов исключены из финального датасета.\n",
    "df['house'] = df['Дом'].apply(lambda x: x.split(', '))\n",
    "df['floors'] = df.loc[:,'house'].apply(lambda x: x[0])\n",
    "df['apartment_floors'] = df.loc[:,'floors'].apply(lambda x: int(x.split('/')[0]))\n",
    "df['total_floors'] = df.loc[:,'floors'].apply(lambda x: int(x.split('/')[1]))\n",
    "df.drop(columns=['floors', 'house', 'Дом'], inplace=True)\n",
    "# Осуществить OHE"
   ]
  },
  {
   "cell_type": "code",
   "execution_count": 76,
   "metadata": {},
   "outputs": [],
   "source": [
    "# Работа с колонкой \"Цена\": получение значений ежемесячной стоимости аренды в требуемом формате. Ввиду отсутствия качественных гипотез о стоимости коммунальных услуг, данный параметр не был сохранён в датасете. \n",
    "df['price'] = df['Цена'].apply(lambda x: float(x.split()[0]))\n",
    "df.drop(columns=['Цена'], inplace=True)"
   ]
  },
  {
   "cell_type": "code",
   "execution_count": 77,
   "metadata": {},
   "outputs": [],
   "source": [
    "# Работа с колонкой \"Ремонт\": принимая во внимание явную градацию видов ремонтов по стоимости, принято решение заменить значения по шкале от 0 (Без ремонта) до 3 (Дизайнерский). \n",
    "# Команда исходила из предположения, что отсутствующие значения, вероятно, соответствуют квартирам, в которых не был произведён ремонт. \n",
    "df['Ремонт'] = df['Ремонт'].fillna(0)\n",
    "dict_repairs = {0: 0, 'Без ремонта': 0, 'Косметический': 1, 'Евроремонт': 2,  'Дизайнерский': 3}\n",
    "df['repairs'] = df['Ремонт'].apply(lambda x: dict_repairs[x])\n",
    "df.drop(columns='Ремонт', inplace=True)"
   ]
  },
  {
   "cell_type": "code",
   "execution_count": 78,
   "metadata": {},
   "outputs": [],
   "source": [
    "# Работа с колонкой \"Можно с детьми/животными\": создание двух колонок (children, animals). \n",
    "# Данное решение принято исходя из логики эксплицитного указания в объявлениях на разрешение проживания детей или животных в квартире (презюмируется запрет). \n",
    "# Соответственно, отсутствующие значения интерпретированы как запрет.\n",
    "df['Можно с детьми/животными'].head(15)\n",
    "df['temp_children_animals'] = df['Можно с детьми/животными'].apply(lambda x: x.split(', ') if pd.notnull(x) else [0])\n",
    "df['children'] = df['temp_children_animals'].apply(lambda x: 1 if 'Можно с детьми' in x else 0)\n",
    "df['animals'] = df['temp_children_animals'].apply(lambda x: 1 if 'Можно с животными' in x else 0)\n",
    "df.drop(columns=['Можно с детьми/животными', 'temp_children_animals'], inplace=True)"
   ]
  },
  {
   "cell_type": "code",
   "execution_count": 79,
   "metadata": {},
   "outputs": [
    {
     "data": {
      "text/plain": [
       "ID                    int64\n",
       "rooms               float64\n",
       "stations             object\n",
       "area                float64\n",
       "apartment_floors      int64\n",
       "total_floors          int64\n",
       "price               float64\n",
       "repairs               int64\n",
       "children              int64\n",
       "animals               int64\n",
       "dtype: object"
      ]
     },
     "execution_count": 79,
     "metadata": {},
     "output_type": "execute_result"
    }
   ],
   "source": [
    "# Замена названий колонок на латиницу.\n",
    "df.rename(columns={\"ID  объявления\": \"ID\"}, inplace=True)\n",
    "df.to_csv('./data.csv', index=False)  \n",
    "df.isnull().sum()\n",
    "df.dtypes"
   ]
  }
 ],
 "metadata": {
  "kernelspec": {
   "display_name": "base",
   "language": "python",
   "name": "python3"
  },
  "language_info": {
   "codemirror_mode": {
    "name": "ipython",
    "version": 3
   },
   "file_extension": ".py",
   "mimetype": "text/x-python",
   "name": "python",
   "nbconvert_exporter": "python",
   "pygments_lexer": "ipython3",
   "version": "3.10.10"
  },
  "orig_nbformat": 4
 },
 "nbformat": 4,
 "nbformat_minor": 2
}
